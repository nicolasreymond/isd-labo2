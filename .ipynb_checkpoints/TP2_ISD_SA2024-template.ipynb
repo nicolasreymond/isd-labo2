{
 "cells": [
  {
   "cell_type": "markdown",
   "id": "c2911a28",
   "metadata": {},
   "source": [
    "# Introduction à la Science des données\n",
    "\n",
    "\n",
    "## Travail pratique 02 – Outils pour le calcul scientifique II \n",
    "\n",
    "[Table des matières](#toc)"
   ]
  },
  {
   "cell_type": "markdown",
   "id": "e81a51c8",
   "metadata": {},
   "source": [
    "**Informations de groupe - Prénoms et noms complets:**\n",
    "\n",
    "- ...\n",
    "- ...\n",
    "- ...\n",
    "\n",
    "**Professeurs**: Carlos Peña et Stephan Robert\n",
    "\n",
    "**Assistant(s)**: Thibault Schowing, Arthur Babey, Cédric Campos Carvalho\n",
    "\n",
    "**Contact**: prenom.nom@heig-vd.ch ou de préférence via Teams \n",
    "\n",
    "### Modalités de rendu :\n",
    "\n",
    "- **Date**: <span style=\"background-color:#eebbdd\">03.11.2024, 23h55</span>\n",
    "\n",
    "\n",
    "- **Travail par groupe** de 2 ou 3. \n",
    "\n",
    "\n",
    "- Une fois complété, rendez directement le notebook (fichier avec l'extension _.ipynb_) nommé correctement comme suit <span style=\"background-color:#eebbdd\">\"**TP2_ISD_SA2024_Nom1_Nom2(_Nom3).ipynb**\"</span> en mettant les noms de famille de chaque membres du groupe (pour ceux avec plusieurs noms de famille, vous pouvez mettre juste le premier comme dans l'adresse email). Les TPs rendu avec un fichier mal nommé seront pénalisé !\n",
    "\n",
    "\n",
    "- Mettez vos Prénoms et noms en entier ci-dessus. \n",
    "\n",
    "\n",
    "- Uploadez le fichier complété avant le délais sur Cyberlearn ou Teams selon les consignes données. \n"
   ]
  },
  {
   "cell_type": "markdown",
   "id": "cfee4249",
   "metadata": {},
   "source": [
    "\n",
    "\n",
    "### Déroulement et notation\n",
    "\n",
    "\n",
    "<div class=\"alert alert-block alert-info\">\n",
    "    <b>Les questions</b> sont généralement indiquées en <b>gras</b>, en <span style=\"background-color:#AFEEEE\">bleu</span> ou par une liste d'instructrions et les endroits où répondre sont indiqués par un \"<i>Réponse:</i>\" pour les réponses textuelles. Pour les réponses nécessitant d'écrire du code, les cellules ont déjà été crées et un commentaire indique où/quoi répondre. \n",
    "</div>\n",
    "\n",
    "\n",
    "<div class=\"alert alert-block alert-info\">\n",
    "    <b>Notation: </b> Ce TP est noté sur 6 avec un total de  <span style=\"background-color:#eebbdd\"><b>70</b></span> points. Les points sont indiqués pour chaques parties du travail pour un total de <span style=\"background-color:#eebbdd\"><b>64</b></span> points  et <span style=\"background-color:#eebbdd\"><b>6</b></span> points supplémentaires sont attribués au rendu du travail (format et nommage selon les consignes) et à la propreté (lisibilité et mise en page, tournure de phrase des réponses). \n",
    "</div>\n",
    "\n",
    "<div class=\"alert alert-block alert-info\">\n",
    "<b>Corrections: </b> Ce notebook vous sera renvoyé via Cyberlearn/Teams ou un autre canal. Les informations principales concernant les corrections seront indiquées après chaque section (banière bleue) avec le nombre de points obtenus. Il est possible que des remarques concernant le code soient directement ajoutées dans celui-ci.\n",
    "</div>\n",
    "\n",
    "---\n"
   ]
  },
  {
   "cell_type": "markdown",
   "id": "5c4881bd",
   "metadata": {},
   "source": [
    "\n",
    "<div class=\"alert alert-block alert-success\">\n",
    "<b>Objectifs </b>\n",
    "</div>\n",
    "\n",
    "- Se familiariser avec la bibliothèque Pandas de gestion et traitement des dataframes.\n",
    "- Mise en pratique de l'analyse et la caractérisation simple des attributs d’une base de données.\n",
    "- Se familiariser avec la bibliothèque Matplotlib pour l'affichage des données\n",
    "\n",
    "\n",
    "<div class=\"alert alert-block alert-info\">\n",
    "<b>Aide - Différentes Cheatsheets recommandées pour accompagner le TP.  </b>\n",
    "</div>\n",
    "\n",
    "N'oubliez pas que vous pouvez retourner vers le TP1 si vous avez des questions sur Python, Numpy, Pandas ou Matplotlib. \n",
    "\n",
    "- [Data wrangling with Pandas](https://pandas.pydata.org/Pandas_Cheat_Sheet.pdf)\n",
    "- [Matplotlib cheatscheets](https://matplotlib.org/cheatsheets/)\n",
    "\n",
    "<div class=\"alert alert-block alert-info\">\n",
    "<b>Aide - N'hésitez pas à écrire à vos assistants directement sur Teams en cas de question.  </b>\n",
    "</div>\n",
    "\n",
    "\n",
    "\n",
    "---"
   ]
  },
  {
   "cell_type": "markdown",
   "id": "b15d03ee",
   "metadata": {},
   "source": [
    "### Table des matières<a name=\"toc\"></a>\n",
    "\n",
    "\n",
    "[Partie 1: Analyse des données socio-économiques, introduction](#Part1)    ----    [5 points](#Part1pts)\n",
    "\n",
    "[Partie 2: Histogrammes](#Part2)   ----    [10 points](#Part2pts)\n",
    "\n",
    "[Partie 3: Manipulations et vérification des données](#Part3)   ----   [12 points](#Part3pts)\n",
    "\n",
    "[Partie 4: Transformations et graphiques](#Part4)\n",
    "\n",
    "[- 4.1: Moyennes par année - barchart](#Part41)\n",
    "\n",
    "[- 4.2: Moyennes par année et par continent - barchart](#Part42)\n",
    "\n",
    "[- 4.3: Question](#Part43)  ----  [12 points](#Part41-3)\n",
    "\n",
    "[- 4.4: Interprétation du graphique](#Part44)\n",
    "\n",
    "[- 4.5: Description des transformations de données](#Part45)\n",
    "\n",
    "[- 4.6: Description des effets de *group_by()* et *unstack()*](#Part46)    ----    [8 points](#Part44-6)\n",
    "\n",
    "[- 4.7: Scatterplot et tailles de points](#Part47)\n",
    "\n",
    "[- 4.8: Analyse et questions](#Part48)\n",
    "\n",
    "[- 4.9: Outlier - Graphique de l'évolution du GDP](#Part49)    ----    [17 points](#Part47-9)"
   ]
  },
  {
   "cell_type": "markdown",
   "id": "e06372ba",
   "metadata": {},
   "source": [
    "## 1.\tAnalyse des données socio-économiques <a name=\"Part1\"></a>\n",
    "\n",
    "[Table des matières](#toc)\n",
    "\n",
    "La fondation gapminder fondée par Hans Rosling et famille, fournit une base de données sur les pays, des outils d’analyse et des études d’analyse socio-économique très intéressantes. Les petits sets de données que nous allons utiliser peuvent sembler insignifiants mais une analyse objective et factuelle des données, comme le promeut la [fondation Gapminder](https://www.projectrosling.ch/fr/concept/), peut rapidement changer votre perception du monde !\n",
    "\n",
    "Nous allons utiliser une petite base de données contenant la population, l’espérance de vie et le PIB par habitant pour différents pays du monde de 1952 à 2007, pour faire quelques analyses.\n",
    "\n",
    "**N'hésitez pas à ouvrir votre TP1 pour avoir les quelques bases à portée de vue pour vous aider dans ce labo et les suivants !**\n",
    "\n",
    "\n",
    "- Dans l'environnement Anaconda utilisé par Jupyter (l'environnement que vous avez inscrit comme kernel), commencez par importer le module gapminder avec pip: *pip install gapminder*. Une fois installé ce module, vous aurez accès à un dataframe appelé gapminder. "
   ]
  },
  {
   "cell_type": "code",
   "execution_count": 1,
   "id": "5050aa83",
   "metadata": {},
   "outputs": [],
   "source": [
    "import matplotlib.pyplot as plt\n",
    "import numpy as np\n",
    "import pandas as pd\n",
    "from gapminder import gapminder\n",
    "\n",
    "\n",
    "# Pour plus de clareté et pour la tradition, on appelle notre DataFrame \"df\" \n",
    "df = gapminder"
   ]
  },
  {
   "cell_type": "markdown",
   "id": "221d52db",
   "metadata": {},
   "source": [
    "___\n",
    "<p style=\"background-color:#AFEEEE;padding:3px\"><font size=\"4\"><b>1.1)</b></font> Utilisez les méthodes head(), describe() et info() pour vous familiariser avec le DataFrame.</p>\n",
    "\n",
    "\n",
    "<div class=\"alert alert-block alert-warning\">\n",
    "<b>Attention vocabulaire: </b>  \n",
    "</div>\n",
    "\n",
    "En science des données, les **lignes** et les **colonnes** d'un tableau de données sont généralement appelées des **observations** et des **variables**, respectivement.\n",
    "\n",
    "Les **observations, également appelées instances ou échantillons**, représentent les différentes entrées ou enregistrements dans un jeu de données. Chaque ligne correspond à une observation individuelle et contient les valeurs des différentes variables pour cette observation.\n",
    "\n",
    "Les **variables, également appelées caractéristiques**, représentent les différentes mesures, attributs ou caractéristiques d'intérêt dans un jeu de données. Chaque colonne correspond à une variable spécifique et contient les valeurs correspondantes pour toutes les observations.\n",
    "\n",
    "Il est important de comprendre la distinction entre les observations et les variables lors de l'analyse des données, car cela aide à structurer et à organiser les informations de manière appropriée pour effectuer des analyses et des manipulations de données."
   ]
  },
  {
   "cell_type": "code",
   "execution_count": 2,
   "id": "3be19308",
   "metadata": {},
   "outputs": [],
   "source": [
    "# Utilisez la méthode head()\n"
   ]
  },
  {
   "cell_type": "code",
   "execution_count": 3,
   "id": "febdd96d",
   "metadata": {},
   "outputs": [],
   "source": [
    "# Utilisez la méthode describe()\n"
   ]
  },
  {
   "cell_type": "code",
   "execution_count": 4,
   "id": "56e74fd8",
   "metadata": {},
   "outputs": [],
   "source": [
    "# Utilisez la méthode info()\n"
   ]
  },
  {
   "cell_type": "markdown",
   "id": "b3686cd2",
   "metadata": {},
   "source": [
    "<p style=\"background-color:#AFEEEE;padding:3px\"><font size=\"4\"><b>1.2)</b></font>  Décrivez brièvement le contenu du dataset. Quelles sont les données présentes / que signifient chaque colonne ?</p>\n",
    "\n",
    "(2 points)\n",
    "\n",
    "\n",
    "*Réponse:*"
   ]
  },
  {
   "cell_type": "markdown",
   "id": "7ddcd58e",
   "metadata": {},
   "source": [
    "<p style=\"background-color:#AFEEEE;padding:3px\"><font size=\"4\"><b>1.3)</b></font>  Décrivez le contenu des résultats renvoyés par les trois méthodes ci-dessus avec vos propres mots. Faites des phrases complètes.:</p>\n",
    "\n",
    "(3 points)\n",
    "\n",
    "*Description head():*\n",
    "\n",
    "\n",
    "*Description describe():*\n",
    "\n",
    "\n",
    "*Description info():*"
   ]
  },
  {
   "cell_type": "markdown",
   "id": "3f492cdc",
   "metadata": {},
   "source": [
    "<a name=\"Part1pts\"></a>\n",
    "<div class=\"alert alert-block alert-info\">\n",
    "<b>Corrections Partie 1: </b> Points obtenus: /5\n",
    "</div>\n",
    "\n",
    "Remarques de l'assistant: \n",
    "\n",
    "\n",
    "[Début partie 1](#Part1) --- [Table des matières](#toc)\n",
    "\n",
    "\n",
    "<p style=\"background-color:#003c9c;padding:3px\"><font size=\"4\"><b></b></font></p>"
   ]
  },
  {
   "cell_type": "markdown",
   "id": "7eadc27a",
   "metadata": {},
   "source": [
    "---\n",
    "\n",
    "<p style=\"background-color:#7ba3e3;padding:10px\"><font size=\"6\"><b></b></font></p>\n",
    "\n",
    "---"
   ]
  },
  {
   "cell_type": "markdown",
   "id": "b92734b4",
   "metadata": {},
   "source": [
    "\n",
    "<a name=\"Part2\"></a>\n",
    "## 2. Histogrammes \n",
    "\n",
    "[Table des matières](#toc)\n",
    "\n",
    "Les histogrammes permettent de visualiser la distribution de nos données. Si vous n'êtes pas sûr de ce qu'est une distribution, vous pouvez regarder [cette courte vidéo de 3 minutes en français](https://youtu.be/bQaqzMNJv60?si=9EolXZD5mnuGvcK2) ou [cette meilleure vidéo mais en anglais, avec de la guitare et probablement la réponse à la question suivante](https://www.youtube.com/watch?v=qBigTkBLU6g&list=PLblh5JKOoLUK0FLuzwntyYI10UQFUhsY9).\n",
    "\n",
    "**2.1) Utilisez la commande *pandas.DataFrame.hist(df)* ci-dessous pour vous faire une idée plus précise des valeurs dans la base de données.** "
   ]
  },
  {
   "cell_type": "code",
   "execution_count": 5,
   "id": "d9c6453e",
   "metadata": {},
   "outputs": [
    {
     "data": {
      "image/png": "[encoded data removed]",
      "text/plain": [
       "<Figure size 1600x1000 with 4 Axes>"
      ]
     },
     "metadata": {},
     "output_type": "display_data"
    }
   ],
   "source": [
    "# Observez bien la notation utilisée et comment s'utilise la fonction \"pandas.DataFrame.hist(df)\"\n",
    "# On ajoute la taille de figure en paramètres pour plus de clareté.\n",
    "\n",
    "df.hist(figsize=(16, 10));"
   ]
  },
  {
   "cell_type": "markdown",
   "id": "77f96a24",
   "metadata": {},
   "source": [
    "**2.2) Description des histogrammes** \n",
    "\n",
    "<p style=\"background-color:#AFEEEE;padding:3px\"><font size=\"3\"><b>Q </b></font> Décrivez les quatre histogrammes ci-dessus en donnant pour chaque variable une petite analyse de sa distribution. Que remarquez-vous avec l'histogramme représentant la variable \"year\" ?** </p>\n",
    "\n",
    "Vous pouvez regarder la suite de cet exercice pour vous faire une idée de la réponse attendue ici. Donnez une description  pour chaque histogramme qui montre que vous comprenez comment interpréter les graphiques. \n",
    "\n",
    "(6 points)"
   ]
  },
  {
   "cell_type": "markdown",
   "id": "36e5b1c1",
   "metadata": {},
   "source": [
    "*Réponse:*\n",
    "\n",
    "\n"
   ]
  },
  {
   "cell_type": "markdown",
   "id": "642a1eb6",
   "metadata": {},
   "source": [
    "**2.3) Exécutez le code ci-dessous puis répondez aux questions suivantes:**\n",
    "\n",
    "(4 points)\n",
    "\n",
    "\n",
    "<p style=\"background-color:#AFEEEE;padding:3px\"><font size=\"4\"><b>Q </b></font>Que représente le paramètre \"bins\" ?  </p>\n",
    "\n",
    "Aidez-vous de [la doc](https://pandas.pydata.org/docs/reference/api/pandas.DataFrame.hist.html) si nécessaire.\n",
    "\n"
   ]
  },
  {
   "cell_type": "markdown",
   "id": "b80be3bc",
   "metadata": {},
   "source": [
    "*Réponse:*\n",
    "\n"
   ]
  },
  {
   "cell_type": "markdown",
   "id": "dd705261",
   "metadata": {},
   "source": [
    "<p style=\"background-color:#AFEEEE;padding:3px\"><font size=\"4\"><b>Q </b></font>Quelle conclusion pouvez vous tirer concernant la représentation de la variable \"year\" dans le dataset ? </p>"
   ]
  },
  {
   "cell_type": "markdown",
   "id": "2812b65b",
   "metadata": {},
   "source": [
    "*Réponse:*\n",
    "\n"
   ]
  },
  {
   "cell_type": "code",
   "execution_count": 6,
   "id": "d3ce4f36",
   "metadata": {},
   "outputs": [
    {
     "data": {
      "image/png": "[encoded data removed]",
      "text/plain": [
       "<Figure size 700x700 with 1 Axes>"
      ]
     },
     "metadata": {},
     "output_type": "display_data"
    }
   ],
   "source": [
    "# Code question 2.3\n",
    "df[\"year\"].hist(figsize=(7, 7), bins = 55);"
   ]
  },
  {
   "cell_type": "markdown",
   "id": "9ba10de2",
   "metadata": {},
   "source": [
    "<a name=\"Part2pts\"></a>\n",
    "<div class=\"alert alert-block alert-info\">\n",
    "<b>Corrections Partie 2: </b> Points obtenus: /10\n",
    "</div>\n",
    "\n",
    "Remarques de l'assistant: \n",
    "\n",
    "\n",
    "[Début partie 2](#Part2) --- [Table des matières](#toc)\n",
    "\n",
    "\n",
    "<p style=\"background-color:#003c9c;padding:3px\"><font size=\"4\"><b></b></font></p>"
   ]
  },
  {
   "cell_type": "markdown",
   "id": "ba1b88db",
   "metadata": {},
   "source": [
    "---\n",
    "\n",
    "<p style=\"background-color:#7ba3e3;padding:10px\"><font size=\"6\"><b></b></font></p>\n",
    "\n",
    "---"
   ]
  },
  {
   "cell_type": "markdown",
   "id": "3a241742",
   "metadata": {},
   "source": [
    "\n",
    "\n",
    "## 3. Manipulations des données de base <a name=\"Part3\"></a>\n",
    "\n",
    "[Table des matières](#toc)\n",
    "\n",
    "<a name=\"Part31\"></a>\n",
    "**3.1) Trouvez combien d’observations il y a par pays et par année (c.a.d., combien d'entrées / de lignes par pays et par année) et vérifiez s’il y a des données manquantes.** \n",
    "\n",
    "(2 point)\n",
    "\n",
    "Pour vérifier s'il y a des données manquantes, vérifiez simplement qu'aucun pays/année n'a moins de données que les autres. \n",
    "\n",
    "Aide:\n",
    "\n",
    "- Utilisez les fonctions: *groupby()* avec comme paramètres \"country\" OU \"year\" puis *size()* pour avoir la taille. Observez en premier à quoi ressemble le résultat de ces deux fonctions puis enchaînez avec *describe()* afin d'en tirer des conclusions. \n",
    "\n",
    "- Regardez les exemples de [la doc pour la fonction groupby()](https://pandas.pydata.org/docs/reference/api/pandas.DataFrame.groupby.html) afin de voir comment **chaîner les méthodes**. N'hésitez pas à chercher des exemples sur le net, et pas que dans la doc. "
   ]
  },
  {
   "cell_type": "code",
   "execution_count": 7,
   "id": "e9f19e7d",
   "metadata": {},
   "outputs": [],
   "source": [
    "# Écrivez votre code ici. Note: une seule ligne suffit. \n",
    "\n"
   ]
  },
  {
   "cell_type": "markdown",
   "id": "28956c0c",
   "metadata": {},
   "source": [
    "**3.2) Combien de mesures ont été faites par année ? (pas besoin d'utiliser describe())**\n",
    "\n",
    "La réponse doit être affichée par votre code ci-dessous.\n",
    "\n",
    "(2 points)"
   ]
  },
  {
   "cell_type": "code",
   "execution_count": 8,
   "id": "4a1322c2",
   "metadata": {},
   "outputs": [],
   "source": [
    "# Écrivez votre code ici. Note: une seule ligne suffit. \n",
    "\n"
   ]
  },
  {
   "cell_type": "markdown",
   "id": "c357e978",
   "metadata": {},
   "source": [
    "<p style=\"background-color:#AFEEEE;padding:3px\"><font size=\"4\"><b>Q </b></font> Que pouvez-vous conclure concernant les donneés manquantes ? (faites des phrases)</p>\n",
    "\n",
    "\n",
    "(2 point)\n",
    "\n",
    "*Réponse:*"
   ]
  },
  {
   "cell_type": "markdown",
   "id": "1fc0f78a",
   "metadata": {},
   "source": [
    "___\n",
    "<a name=\"Part33\"></a>\n",
    "**3.3) Listez les valeurs uniques présentes dans les colonnes ‘continent’, ‘country’, et ‘year’. Utilisez la méthode _unique()_. Pour les pays, affichez aussi le nombre de pays présents.** \n",
    "\n",
    "(3 points)\n",
    "\n",
    "Aide: \n",
    "\n",
    "- Vous pouvez utiliser **df['Nom Colonne']** ou **df.loc[:,'Nom colonne']** pour retourner directement le contenu d'une colonne. \n",
    "- Avec les notebooks, pour afficher en sortie plusieurs éléments, vous devez utiliser la fonction _print()_ pour chaque éléments. "
   ]
  },
  {
   "cell_type": "code",
   "execution_count": 9,
   "id": "29f5d97d",
   "metadata": {},
   "outputs": [],
   "source": [
    "# Écrivez votre code ici. Note: une seule ligne suffit par colonne. Affichez vos résultats dans des cellules différentes.  \n",
    "\n",
    "# Continent\n"
   ]
  },
  {
   "cell_type": "code",
   "execution_count": 10,
   "id": "b9ac93de",
   "metadata": {},
   "outputs": [],
   "source": [
    "# Country\n"
   ]
  },
  {
   "cell_type": "code",
   "execution_count": 11,
   "id": "176b5a78",
   "metadata": {},
   "outputs": [],
   "source": [
    "# Year\n"
   ]
  },
  {
   "cell_type": "markdown",
   "id": "3b636687",
   "metadata": {},
   "source": [
    "---\n",
    "<a name=\"Part35\"></a>\n",
    "\n",
    "**3.5) A partir de la liste des pays (unique), créez une liste d'abréviation qui contient pour chaque pays, une chaine de caractères composées des 3 premières consonnes du nom du pays puis affichez le résultat: Pays -> Abréviation**\n",
    "\n",
    "(3 points)\n",
    "\n",
    "**Note:** Pour ne pas perdre de temps et vous familiariser avec ces outils, **aidez-vous de ChatGPT ou Copilot** pour rédiger ce code. Trouvez un moyen de compléter les abréviations des pays avec moins de 3 consonnes et de remplacer les éventuels doublons. \n",
    "\n",
    "\n",
    "Exemple: \n",
    "\n",
    "```\n",
    "\n",
    "[\"France\", \"Nicaragua\", \"Poland\", ...]\n",
    "[\"Frn\", \"Ncr\", \"Pld\", ...]\n",
    "\n",
    "\n",
    "```\n",
    "\n",
    "\n",
    "**-> Indiquez dans la cellule après votre code, quel outil vous avez utilisé et quel(s) prompt a(ont) été donné(s).**\n"
   ]
  },
  {
   "cell_type": "code",
   "execution_count": 12,
   "id": "6273c559",
   "metadata": {},
   "outputs": [],
   "source": [
    "# Partie 3.5 - code\n",
    "\n"
   ]
  },
  {
   "cell_type": "markdown",
   "id": "ffb62593",
   "metadata": {},
   "source": [
    "*Outil utilisé:*\n",
    "- ...\n",
    "\n",
    "*Prompts utilisé:*\n",
    "- ..."
   ]
  },
  {
   "cell_type": "markdown",
   "id": "90cbcfb6",
   "metadata": {},
   "source": [
    "<a name=\"Part3pts\"></a>\n",
    "<div class=\"alert alert-block alert-info\">\n",
    "<b>Corrections Partie 3: </b> Points obtenus: /12\n",
    "</div>\n",
    "\n",
    "Remarques de l'assistant: \n",
    "\n",
    "\n",
    "[Début partie 3](#Part3) --- [Table des matières](#toc)\n",
    "\n",
    "\n",
    "<p style=\"background-color:#003c9c;padding:3px\"><font size=\"4\"><b></b></font></p>"
   ]
  },
  {
   "cell_type": "markdown",
   "id": "15ae5e2a",
   "metadata": {},
   "source": [
    "---\n",
    "\n",
    "<p style=\"background-color:#7ba3e3;padding:10px\"><font size=\"6\"><b></b></font></p>\n",
    "\n",
    "---"
   ]
  },
  {
   "cell_type": "markdown",
   "id": "34e678e0",
   "metadata": {},
   "source": [
    "\n",
    "<a name=\"Part4\"></a>\n",
    "\n",
    "## 4. Transformations et graphiques \n",
    "\n",
    "\n",
    "[Table des matières](#toc)\n",
    "\n",
    "[- 4.1: Moyennes par année - barchart](#Part41)\n",
    "\n",
    "[- 4.2: Moyennes par année et par continent - barchart](#Part42)\n",
    "\n",
    "[- 4.3: Question](#Part43)  ----  [Corrections](#Part41-3)\n",
    "\n",
    "[- 4.4: Interprétation du graphique](#Part44)\n",
    "\n",
    "[- 4.5: Description des transformations de données](#Part45)\n",
    "\n",
    "[- 4.6: Description des effets de *group_by()* et *unstack()*](#Part46)    ----    [Corrections](#Part44-6)\n",
    "\n",
    "[- 4.7: Scatterplot et tailles de points](#Part47)\n",
    "\n",
    "[- 4.8: Analyse et questions](#Part48)\n",
    "\n",
    "[- 4.9: Outlier - Graphique de l'évolution du GDP](#Part49)    ----    [Corrections](#Part47-9)\n",
    "\n",
    "\n",
    "\n"
   ]
  },
  {
   "cell_type": "markdown",
   "id": "86a85793",
   "metadata": {},
   "source": [
    "<a name=\"Part41\"></a>\n",
    "**4.1) Calculez la moyenne de l’espérance de vie de tous les pays en 1952 et en 2007. Générez un bar chart (deux barres, une pour 1952 et une pour 2007) permettant la comparaison de ces moyennes.**\n",
    "\n",
    "\n",
    "\n",
    "(5 points)\n",
    "\n",
    "Pour sélectionner les données des bonnes années, regardez les [exemples de la doc (\"Getting values\")](https://pandas.pydata.org/docs/reference/api/pandas.DataFrame.loc.html) pour vous aider à comprendre comment faire à l'aide de conditions. \n",
    "\n",
    "\n",
    "Une fois que vous avez un nouveau DataFrame avec uniquement les données de 1952 et 2007, gardez uniquement les colonnes d'intérêt (year et lifeExp), groupez les données par année et calculez la moyenne de l'espérence de vie. Une fois ceci fait, utilisez la fonction ```df.plot.bar()``` \n",
    "\n",
    "Aide: vous pouvez utiliser plusieur .loc[] d'affilée, une fois pour choisir les années, et une fois pour choisir les colonnes d'intérêt. **Regardez l'exemple ci-dessous pour vous aider**.\n",
    "\n",
    "Notes: toutes ces opérations peuvent être effectuées à la chaîne, en une seule ligne. Si vous souhaitez faire cela petit à petit, n'oubliez pas d'enregistrer vos résultats intermédiaires dans une variable: ``` tmp_df = df.loc[\"exemple\"]```. \n",
    "\n",
    "**Pour débugger, vous pouvez utiliser la fonction print() pour afficher le contenu intermédiaire de votre dataframe, par exemple après avoir filtré les années. Merci de supprimer vos print() de debug avant le rendu !**\n",
    "\n"
   ]
  },
  {
   "cell_type": "code",
   "execution_count": 13,
   "id": "4d7b764d",
   "metadata": {},
   "outputs": [],
   "source": [
    "# Écrivez votre code ici\n",
    "\n"
   ]
  },
  {
   "cell_type": "markdown",
   "id": "783a0ee3",
   "metadata": {},
   "source": [
    "Ci-dessous, un petit **exemple** qui utilise le \"method chaining\". Cette notation, qui profite du fait que chaque methode Pandas retourne un DataFrame auquel on peut appliquer une nouvelle méthode, augmente grandement la lisibiltié du code. Vous trouvez une section avec un exemple sur [La cheat sheet \"Data wrangling with Pandas\"](https://pandas.pydata.org/Pandas_Cheat_Sheet.pdf). \n",
    "\n",
    ">Most pandas methods return a DataFrame so that another pandas method can be applied to the result. This improves readability of code.\n",
    "\n",
    "\n",
    "En plus de chaîner les méthodes, le graphique est rendu beaucoup plus lisible en y ajoutant des axes bien nommés, un titre et des labels inclinés. Libre à vous de vous inspirer de cet exemple pour l'exercice 5. "
   ]
  },
  {
   "cell_type": "code",
   "execution_count": 14,
   "id": "d60e29dd",
   "metadata": {},
   "outputs": [
    {
     "data": {
      "image/png": "[encoded data removed]",
      "text/plain": [
       "<Figure size 1600x800 with 1 Axes>"
      ]
     },
     "metadata": {},
     "output_type": "display_data"
    }
   ],
   "source": [
    "# Exemple\n",
    "\n",
    "ax = (df\n",
    "      .loc[:, ['continent', 'lifeExp']]\n",
    "      .groupby('continent')\n",
    "      .mean('lifeExp')\n",
    "      .plot.bar(rot=45, figsize=(16, 8))\n",
    "      )\n",
    "ax.set_title('Overall mean of life expectancy per continent', fontsize=14)\n",
    "ax.set_xlabel('Continent', fontsize=12)\n",
    "ax.set_ylabel('Life expectancy', fontsize=12);"
   ]
  },
  {
   "cell_type": "markdown",
   "id": "a9ad9254",
   "metadata": {},
   "source": [
    "\n",
    "___"
   ]
  },
  {
   "cell_type": "markdown",
   "id": "a6f571a0",
   "metadata": {},
   "source": [
    "<a name=\"Part42\"></a>\n",
    "\n",
    "**4.2) Calculez la moyenne de l’espérance de vie des pays par continent en 1952 et en 2007. Générez un bar chart permettant la comparaison de ces moyennes.**\n",
    "\n",
    "[Table des matières](#toc)\n",
    "\n",
    "(5 points)\n",
    "\n",
    "Comme pour l'exercice précédent, vous devez transformer vos données avant de les afficher. Ici vous devez **grouper sur deux niveaux: par continent et par année**. \n",
    "\n",
    "~Le graphique final aura un aspect similaire à celui ci-dessus, **avec deux barres par continent: une pour 1952 et une pour 2007.**~\n",
    "\n",
    "Le graphique attendu vous a été donné dans l'introduction au labo et doit être identique. \n",
    "\n",
    "Pour avoir le format de données attendu pour générer l'histogramme ( Continent | 1952 | 2007 ) vous devrez utiliser la fonction [unstack()](https://pandas.pydata.org/docs/reference/api/pandas.DataFrame.unstack.html). Lisez rapidement la documentation pour en comprendre le sens puis transformez vos données ci-dessous. On vous conseille de lire [cet article de la documentation](https://pandas.pydata.org/docs/user_guide/reshaping.html) pour bien comprendre les différentes manipulations appliquées aux données. Des exemples avec images permettent une bonne compréhension, spécialement pour la fonction *unstack()* qui peut être un peu abstraite au début. \n",
    "\n",
    "\n",
    "**Note:** dans la cellule à compléter ci-dessous, le dataframe n'est pas affecté à une variable mais uniquement affiché en sortie pour tester le code. Pour affecter le résultat remplissez la cellule d'après comme indiqué, avec le résultat de vos essais. Le but ici est de voir à quoi ressemble les données avant de les mettre sous forme de graphique.\n",
    "\n"
   ]
  },
  {
   "cell_type": "code",
   "execution_count": 15,
   "id": "e5dd9ce2",
   "metadata": {},
   "outputs": [
    {
     "data": {
      "text/html": [
       "<div>\n",
       "<style scoped>\n",
       "    .dataframe tbody tr th:only-of-type {\n",
       "        vertical-align: middle;\n",
       "    }\n",
       "\n",
       "    .dataframe tbody tr th {\n",
       "        vertical-align: top;\n",
       "    }\n",
       "\n",
       "    .dataframe thead th {\n",
       "        text-align: right;\n",
       "    }\n",
       "</style>\n",
       "<table border=\"1\" class=\"dataframe\">\n",
       "  <thead>\n",
       "    <tr style=\"text-align: right;\">\n",
       "      <th></th>\n",
       "      <th>country</th>\n",
       "      <th>continent</th>\n",
       "      <th>year</th>\n",
       "      <th>lifeExp</th>\n",
       "      <th>pop</th>\n",
       "      <th>gdpPercap</th>\n",
       "    </tr>\n",
       "  </thead>\n",
       "  <tbody>\n",
       "    <tr>\n",
       "      <th>0</th>\n",
       "      <td>Afghanistan</td>\n",
       "      <td>Asia</td>\n",
       "      <td>1952</td>\n",
       "      <td>28.801</td>\n",
       "      <td>8425333</td>\n",
       "      <td>779.445314</td>\n",
       "    </tr>\n",
       "    <tr>\n",
       "      <th>1</th>\n",
       "      <td>Afghanistan</td>\n",
       "      <td>Asia</td>\n",
       "      <td>1957</td>\n",
       "      <td>30.332</td>\n",
       "      <td>9240934</td>\n",
       "      <td>820.853030</td>\n",
       "    </tr>\n",
       "    <tr>\n",
       "      <th>2</th>\n",
       "      <td>Afghanistan</td>\n",
       "      <td>Asia</td>\n",
       "      <td>1962</td>\n",
       "      <td>31.997</td>\n",
       "      <td>10267083</td>\n",
       "      <td>853.100710</td>\n",
       "    </tr>\n",
       "    <tr>\n",
       "      <th>3</th>\n",
       "      <td>Afghanistan</td>\n",
       "      <td>Asia</td>\n",
       "      <td>1967</td>\n",
       "      <td>34.020</td>\n",
       "      <td>11537966</td>\n",
       "      <td>836.197138</td>\n",
       "    </tr>\n",
       "    <tr>\n",
       "      <th>4</th>\n",
       "      <td>Afghanistan</td>\n",
       "      <td>Asia</td>\n",
       "      <td>1972</td>\n",
       "      <td>36.088</td>\n",
       "      <td>13079460</td>\n",
       "      <td>739.981106</td>\n",
       "    </tr>\n",
       "    <tr>\n",
       "      <th>...</th>\n",
       "      <td>...</td>\n",
       "      <td>...</td>\n",
       "      <td>...</td>\n",
       "      <td>...</td>\n",
       "      <td>...</td>\n",
       "      <td>...</td>\n",
       "    </tr>\n",
       "    <tr>\n",
       "      <th>1699</th>\n",
       "      <td>Zimbabwe</td>\n",
       "      <td>Africa</td>\n",
       "      <td>1987</td>\n",
       "      <td>62.351</td>\n",
       "      <td>9216418</td>\n",
       "      <td>706.157306</td>\n",
       "    </tr>\n",
       "    <tr>\n",
       "      <th>1700</th>\n",
       "      <td>Zimbabwe</td>\n",
       "      <td>Africa</td>\n",
       "      <td>1992</td>\n",
       "      <td>60.377</td>\n",
       "      <td>10704340</td>\n",
       "      <td>693.420786</td>\n",
       "    </tr>\n",
       "    <tr>\n",
       "      <th>1701</th>\n",
       "      <td>Zimbabwe</td>\n",
       "      <td>Africa</td>\n",
       "      <td>1997</td>\n",
       "      <td>46.809</td>\n",
       "      <td>11404948</td>\n",
       "      <td>792.449960</td>\n",
       "    </tr>\n",
       "    <tr>\n",
       "      <th>1702</th>\n",
       "      <td>Zimbabwe</td>\n",
       "      <td>Africa</td>\n",
       "      <td>2002</td>\n",
       "      <td>39.989</td>\n",
       "      <td>11926563</td>\n",
       "      <td>672.038623</td>\n",
       "    </tr>\n",
       "    <tr>\n",
       "      <th>1703</th>\n",
       "      <td>Zimbabwe</td>\n",
       "      <td>Africa</td>\n",
       "      <td>2007</td>\n",
       "      <td>43.487</td>\n",
       "      <td>12311143</td>\n",
       "      <td>469.709298</td>\n",
       "    </tr>\n",
       "  </tbody>\n",
       "</table>\n",
       "<p>1704 rows × 6 columns</p>\n",
       "</div>"
      ],
      "text/plain": [
       "          country continent  year  lifeExp       pop   gdpPercap\n",
       "0     Afghanistan      Asia  1952   28.801   8425333  779.445314\n",
       "1     Afghanistan      Asia  1957   30.332   9240934  820.853030\n",
       "2     Afghanistan      Asia  1962   31.997  10267083  853.100710\n",
       "3     Afghanistan      Asia  1967   34.020  11537966  836.197138\n",
       "4     Afghanistan      Asia  1972   36.088  13079460  739.981106\n",
       "...           ...       ...   ...      ...       ...         ...\n",
       "1699     Zimbabwe    Africa  1987   62.351   9216418  706.157306\n",
       "1700     Zimbabwe    Africa  1992   60.377  10704340  693.420786\n",
       "1701     Zimbabwe    Africa  1997   46.809  11404948  792.449960\n",
       "1702     Zimbabwe    Africa  2002   39.989  11926563  672.038623\n",
       "1703     Zimbabwe    Africa  2007   43.487  12311143  469.709298\n",
       "\n",
       "[1704 rows x 6 columns]"
      ]
     },
     "execution_count": 15,
     "metadata": {},
     "output_type": "execute_result"
    }
   ],
   "source": [
    "# Testez votre code ici (qui ne fait qu'afficher le dataFrame transformé). \n",
    "# Profitez de \"jouer\" avec les différentes fonctions. Cette cellule n'est pas corrigée,\n",
    "# elle vous sert juste de bac à sable pour comprendre.\n",
    "\n",
    "(df\n",
    " #.loc[]\n",
    " #.query()                           # Vous pouvez utiliser query() ou loc[] selon vos préférences\n",
    " #.groupby()\n",
    " #.mean()\n",
    " #.unstack()                         # Testez la fonction unstack() \n",
    " )"
   ]
  },
  {
   "cell_type": "code",
   "execution_count": 16,
   "id": "979e06a0",
   "metadata": {
    "scrolled": true
   },
   "outputs": [
    {
     "data": {
      "text/html": [
       "<div>\n",
       "<style scoped>\n",
       "    .dataframe tbody tr th:only-of-type {\n",
       "        vertical-align: middle;\n",
       "    }\n",
       "\n",
       "    .dataframe tbody tr th {\n",
       "        vertical-align: top;\n",
       "    }\n",
       "\n",
       "    .dataframe thead th {\n",
       "        text-align: right;\n",
       "    }\n",
       "</style>\n",
       "<table border=\"1\" class=\"dataframe\">\n",
       "  <thead>\n",
       "    <tr style=\"text-align: right;\">\n",
       "      <th></th>\n",
       "      <th>country</th>\n",
       "      <th>continent</th>\n",
       "      <th>year</th>\n",
       "      <th>lifeExp</th>\n",
       "      <th>pop</th>\n",
       "      <th>gdpPercap</th>\n",
       "    </tr>\n",
       "  </thead>\n",
       "  <tbody>\n",
       "    <tr>\n",
       "      <th>0</th>\n",
       "      <td>Afghanistan</td>\n",
       "      <td>Asia</td>\n",
       "      <td>1952</td>\n",
       "      <td>28.801</td>\n",
       "      <td>8425333</td>\n",
       "      <td>779.445314</td>\n",
       "    </tr>\n",
       "    <tr>\n",
       "      <th>1</th>\n",
       "      <td>Afghanistan</td>\n",
       "      <td>Asia</td>\n",
       "      <td>1957</td>\n",
       "      <td>30.332</td>\n",
       "      <td>9240934</td>\n",
       "      <td>820.853030</td>\n",
       "    </tr>\n",
       "    <tr>\n",
       "      <th>2</th>\n",
       "      <td>Afghanistan</td>\n",
       "      <td>Asia</td>\n",
       "      <td>1962</td>\n",
       "      <td>31.997</td>\n",
       "      <td>10267083</td>\n",
       "      <td>853.100710</td>\n",
       "    </tr>\n",
       "    <tr>\n",
       "      <th>3</th>\n",
       "      <td>Afghanistan</td>\n",
       "      <td>Asia</td>\n",
       "      <td>1967</td>\n",
       "      <td>34.020</td>\n",
       "      <td>11537966</td>\n",
       "      <td>836.197138</td>\n",
       "    </tr>\n",
       "    <tr>\n",
       "      <th>4</th>\n",
       "      <td>Afghanistan</td>\n",
       "      <td>Asia</td>\n",
       "      <td>1972</td>\n",
       "      <td>36.088</td>\n",
       "      <td>13079460</td>\n",
       "      <td>739.981106</td>\n",
       "    </tr>\n",
       "    <tr>\n",
       "      <th>...</th>\n",
       "      <td>...</td>\n",
       "      <td>...</td>\n",
       "      <td>...</td>\n",
       "      <td>...</td>\n",
       "      <td>...</td>\n",
       "      <td>...</td>\n",
       "    </tr>\n",
       "    <tr>\n",
       "      <th>1699</th>\n",
       "      <td>Zimbabwe</td>\n",
       "      <td>Africa</td>\n",
       "      <td>1987</td>\n",
       "      <td>62.351</td>\n",
       "      <td>9216418</td>\n",
       "      <td>706.157306</td>\n",
       "    </tr>\n",
       "    <tr>\n",
       "      <th>1700</th>\n",
       "      <td>Zimbabwe</td>\n",
       "      <td>Africa</td>\n",
       "      <td>1992</td>\n",
       "      <td>60.377</td>\n",
       "      <td>10704340</td>\n",
       "      <td>693.420786</td>\n",
       "    </tr>\n",
       "    <tr>\n",
       "      <th>1701</th>\n",
       "      <td>Zimbabwe</td>\n",
       "      <td>Africa</td>\n",
       "      <td>1997</td>\n",
       "      <td>46.809</td>\n",
       "      <td>11404948</td>\n",
       "      <td>792.449960</td>\n",
       "    </tr>\n",
       "    <tr>\n",
       "      <th>1702</th>\n",
       "      <td>Zimbabwe</td>\n",
       "      <td>Africa</td>\n",
       "      <td>2002</td>\n",
       "      <td>39.989</td>\n",
       "      <td>11926563</td>\n",
       "      <td>672.038623</td>\n",
       "    </tr>\n",
       "    <tr>\n",
       "      <th>1703</th>\n",
       "      <td>Zimbabwe</td>\n",
       "      <td>Africa</td>\n",
       "      <td>2007</td>\n",
       "      <td>43.487</td>\n",
       "      <td>12311143</td>\n",
       "      <td>469.709298</td>\n",
       "    </tr>\n",
       "  </tbody>\n",
       "</table>\n",
       "<p>1704 rows × 6 columns</p>\n",
       "</div>"
      ],
      "text/plain": [
       "          country continent  year  lifeExp       pop   gdpPercap\n",
       "0     Afghanistan      Asia  1952   28.801   8425333  779.445314\n",
       "1     Afghanistan      Asia  1957   30.332   9240934  820.853030\n",
       "2     Afghanistan      Asia  1962   31.997  10267083  853.100710\n",
       "3     Afghanistan      Asia  1967   34.020  11537966  836.197138\n",
       "4     Afghanistan      Asia  1972   36.088  13079460  739.981106\n",
       "...           ...       ...   ...      ...       ...         ...\n",
       "1699     Zimbabwe    Africa  1987   62.351   9216418  706.157306\n",
       "1700     Zimbabwe    Africa  1992   60.377  10704340  693.420786\n",
       "1701     Zimbabwe    Africa  1997   46.809  11404948  792.449960\n",
       "1702     Zimbabwe    Africa  2002   39.989  11926563  672.038623\n",
       "1703     Zimbabwe    Africa  2007   43.487  12311143  469.709298\n",
       "\n",
       "[1704 rows x 6 columns]"
      ]
     },
     "execution_count": 16,
     "metadata": {},
     "output_type": "execute_result"
    }
   ],
   "source": [
    "# Ajoutez votre code ici pour créer le dataFrame df_life_exp. Sans modification il sera égal à df\n",
    "# Le dataframe df_life_exp est utilisé ci-après pour créer le plot demandé. \n",
    "\n",
    "df_life_exp = (df\n",
    " #.loc[]\n",
    " #.query() / loc[]\n",
    " #.groupby()\n",
    " #.mean()\n",
    " #.unstack()\n",
    " )\n",
    "\n",
    "df_life_exp # à laisser. Affiche en sortie de cellule votre dataframe transformé."
   ]
  },
  {
   "cell_type": "code",
   "execution_count": 17,
   "id": "192b97cf",
   "metadata": {},
   "outputs": [
    {
     "data": {
      "text/plain": [
       "<matplotlib.legend.Legend at 0x2bc3f300c50>"
      ]
     },
     "execution_count": 17,
     "metadata": {},
     "output_type": "execute_result"
    },
    {
     "data": {
      "image/png": "[encoded data removed]",
      "text/plain": [
       "<Figure size 1600x600 with 1 Axes>"
      ]
     },
     "metadata": {},
     "output_type": "display_data"
    }
   ],
   "source": [
    "# Exécutez cette cellule pour afficher le graphique une fois df_life_exp formaté correctement.\n",
    "\n",
    "# Barplot des deux années, par continent\n",
    "ax = (df_life_exp\n",
    "      .plot.bar(rot=45, figsize=(16, 6))\n",
    "      )\n",
    "ax.set_xlabel('Continent', fontsize=12)\n",
    "ax.set_ylabel('Life Expectancy', fontsize=12)\n",
    "ax.set_title('Life Expectancy by continent in 1952 and 2007', fontsize=14)\n",
    "# Rename legend to remove the None and the `LifeExp`.\n",
    "ax.legend(labels=['1952', '2007'])\n"
   ]
  },
  {
   "cell_type": "markdown",
   "id": "1eeb9913",
   "metadata": {},
   "source": [
    "<a name=\"Part43\"></a>\n",
    "**4.3) Question** \n",
    "\n",
    "[Table des matières](#toc)\n",
    "\n",
    "(2 point)\n",
    "\n",
    "Quel continent affiche la plus grande progression de l'espérance de vie ?\n",
    "\n",
    "\n"
   ]
  },
  {
   "cell_type": "markdown",
   "id": "31f68f20",
   "metadata": {},
   "source": [
    "Pour en être sûr, regardez la différence entre les moyennes des deux années en exécutant le code ci-dessous. Jettez un oeil à la fonction [pandas.diff()](https://pandas.pydata.org/docs/reference/api/pandas.DataFrame.diff.html). Donnez votre réponse **en plus d'une courte explication de la fonction _diff()_**. "
   ]
  },
  {
   "cell_type": "markdown",
   "id": "eeaeefed",
   "metadata": {},
   "source": [
    "*Réponse:* "
   ]
  },
  {
   "cell_type": "code",
   "execution_count": null,
   "id": "17a1d630",
   "metadata": {},
   "outputs": [],
   "source": [
    "# On peut voir la progression en faisant la différence entre les deux colonnes (1952 et 2007).\n",
    "\n",
    "df_life_exp.diff(axis=1) # Note: axis=0 -> par \"rows\", axis=1 -> par \"columns\""
   ]
  },
  {
   "cell_type": "markdown",
   "id": "09ecca8d",
   "metadata": {},
   "source": [
    "---"
   ]
  },
  {
   "cell_type": "markdown",
   "id": "befd2bf0",
   "metadata": {},
   "source": [
    "<a name=\"Part41-3\"></a>\n",
    "<div class=\"alert alert-block alert-info\">\n",
    "<b>Corrections 4.1 - 4.3: </b> Points obtenus: /12\n",
    "</div>\n",
    "\n",
    "Remarques de l'assistant: \n",
    "\n",
    "\n",
    "\n",
    "[Début partie 4](#Part4) --- [Table des matières](#toc)\n",
    "\n",
    "<p style=\"background-color:#003c9c;padding:3px\"><font size=\"4\"><b></b></font></p>"
   ]
  },
  {
   "cell_type": "markdown",
   "id": "f0f0de65",
   "metadata": {},
   "source": [
    "___\n",
    "<a name=\"Part44\"></a>\n",
    "**4.4) Afin de visualiser la population par continent au fil du temps, nous créons le graphique ci-dessous.**\n",
    "\n",
    "[Table des matières](#toc)"
   ]
  },
  {
   "cell_type": "code",
   "execution_count": null,
   "id": "6c292b8c",
   "metadata": {},
   "outputs": [],
   "source": [
    "# Evolution of the population by continent from 1952 to 2007.\n",
    "ax = (df\n",
    "      .loc[:, ['year', 'continent', 'pop']]\n",
    "      .groupby(['year', 'continent'])\n",
    "      .sum('pop')\n",
    "      .unstack('continent')\n",
    "      .plot(rot=45, figsize=(16, 8))\n",
    "      )\n",
    "ax.set_xlabel('Year', fontsize=12)\n",
    "ax.set_ylabel('Population', fontsize=12)\n",
    "ax.set_title('Population by continent from 1952 to 2007', fontsize=14)\n",
    "ax.legend(sorted(df['continent'].unique()))\n"
   ]
  },
  {
   "cell_type": "markdown",
   "id": "8688fc9c",
   "metadata": {},
   "source": [
    "\n",
    "<p style=\"background-color:#AFEEEE;padding:3px\"><font size=\"4\"><b>Q </b></font> Que pouvez vous conclure à partir de ce graphique ? (faites une phrase)</p>\n",
    "\n",
    "(1 points)"
   ]
  },
  {
   "cell_type": "markdown",
   "id": "bba767b7",
   "metadata": {},
   "source": [
    "*Réponse:*"
   ]
  },
  {
   "cell_type": "markdown",
   "id": "74bc1cff",
   "metadata": {},
   "source": [
    "---\n",
    "<a name=\"Part45\"></a>\n",
    "**4.5) Décrivez chaque étape de transformation des données pour obtenir le graphique ci-dessus (4.4).**\n",
    "\n",
    "(5 points)\n",
    "\n",
    "[Table des matières](#toc)\n",
    "\n",
    "Notes: \n",
    "- Faites le de manière lisible, en utilisant une liste à puce comme ci-dessous et vérifiez votre markdown en exécutant la cellule après l'avoir éditée. Un seul retour à la ligne ne sera par exemple pas interprété car il en faut deux en markdown.\n",
    "- Pas besoin de décrire les lignes concernant la figure (ax...) . \n",
    "\n",
    "\n",
    "\n",
    "Par exemple:\n",
    "\n",
    "- *.loc[:, 'X'] : extrait la colonne \"X\" du DataFrame*\n",
    "\n",
    "- *.method : fait quelque chose*\n",
    "\n",
    "...\n"
   ]
  },
  {
   "cell_type": "markdown",
   "id": "e9f6016b",
   "metadata": {},
   "source": [
    "*Réponse:*"
   ]
  },
  {
   "cell_type": "markdown",
   "id": "80fae5cd",
   "metadata": {},
   "source": [
    "---\n",
    "<a name=\"Part46\"></a>\n",
    "**4.6) Affichez les données transformées qui sont passées à la fonction *plot()***. (recopiez simplement le bout de code concerné: oui c'est très simple) Observez comment sont affichés les groupements. Décrivez ce qui change si on inverse les valeurs de group_by ou qu'on supprime la fonction unstack. \n",
    "\n",
    "[Table des matières](#toc)\n",
    "\n",
    "(2 points)"
   ]
  },
  {
   "cell_type": "code",
   "execution_count": null,
   "id": "e4ff5c8c",
   "metadata": {},
   "outputs": [],
   "source": [
    "# Écrivez votre code ici\n",
    "\n"
   ]
  },
  {
   "cell_type": "markdown",
   "id": "67c551a3",
   "metadata": {},
   "source": [
    "*Réponse:*"
   ]
  },
  {
   "cell_type": "markdown",
   "id": "3bb53664",
   "metadata": {},
   "source": [
    "---"
   ]
  },
  {
   "cell_type": "markdown",
   "id": "b1cfc3cf",
   "metadata": {},
   "source": [
    "<a name=\"Part44-6\"></a>\n",
    "<div class=\"alert alert-block alert-info\">\n",
    "<b>Corrections 4.4 - 4.6: </b> Points obtenus: /8\n",
    "</div>\n",
    "\n",
    "Remarques de l'assistant: \n",
    "\n",
    "\n",
    "[Début partie 4](#Part4) --- [Table des matières](#toc)\n",
    "\n",
    "<p style=\"background-color:#003c9c;padding:3px\"><font size=\"4\"><b></b></font></p>"
   ]
  },
  {
   "cell_type": "markdown",
   "id": "ad3765f0",
   "metadata": {},
   "source": [
    "---"
   ]
  },
  {
   "cell_type": "markdown",
   "id": "923e024b",
   "metadata": {},
   "source": [
    "<a name=\"Part47\"></a>\n",
    "**4.7) Lisez attentivement le code du graphique suivant et ses commentaires. Modifiez _une seule ligne_ pour définir comme taille de points du scatterplot, la population de chaque pays en million.** Observez bien le graphique avant et après. \n",
    "\n",
    "(2 points)\n",
    "\n",
    "[Table des matières](#toc)\n",
    "\n",
    "Vous pouvez trouver le paramètre à ajouter dans [la doc](https://pandas.pydata.org/pandas-docs/version/0.25.0/reference/api/pandas.DataFrame.plot.scatter.html). "
   ]
  },
  {
   "cell_type": "code",
   "execution_count": null,
   "id": "f8396840",
   "metadata": {
    "scrolled": true
   },
   "outputs": [],
   "source": [
    "import matplotlib.cm as cm\n",
    "NCOLORS = 5\n",
    "\n",
    "fig, axs = plt.subplots(1, 2, sharey=True, sharex=True, figsize=(20, 8))\n",
    "\n",
    "# Colormap for the continents.\n",
    "cmap = list(plt.get_cmap(\"rainbow\")(np.linspace(0, 1, NCOLORS)))\n",
    "\n",
    "# Vous pouvez aussi définir les couleurs manuellement\n",
    "# cmap = [\"black\",\"red\",\"yellow\",\"blue\",\"green\"]\n",
    "\n",
    "\n",
    "for i, year in enumerate((1952, 2007)):\n",
    "    data = df.query('year == @year')\n",
    "    \n",
    "    # Plot each continent as a different color in order to have a legend. \n",
    "    \n",
    "    # Observez bien: \n",
    "    # - la fonction ennumerate et ce qu'elle retourne\n",
    "    #     La fonction ennumerate() renvoie un index en plus des éléments d'une liste. \n",
    "    #     Ici elle retourne c, l'index, ainsi qu'un tuple avec le groupe et le dataframe correspondant.\n",
    "    #     Pour accéder à la population de chaque pays on peut par exemple utiliser df_continent['pop']\n",
    "    \n",
    "    for c, (continent, df_continent) in enumerate(data.groupby('continent')):\n",
    "        \n",
    "        # Scatterplot\n",
    "        df_continent.plot.scatter(ax=axs[i], \n",
    "                                  x='gdpPercap', \n",
    "                                  y='lifeExp', \n",
    "                                  color=[cmap[c]], \n",
    "                                  label=continent, \n",
    "                                  s = 100,\n",
    "                                  alpha=0.8)\n",
    "    \n",
    "    # Plot style\n",
    "    \n",
    "    axs[i].set_title(year, fontsize=14)\n",
    "    axs[i].set_xlabel('GDP per capita', fontsize=12)\n",
    "    axs[i].grid(axis='y', linestyle='--', alpha=0.4, lw=0.5)\n",
    "    \n",
    "    \n",
    "    # Remove border on the top and right.\n",
    "    axs[i].spines['top'].set_visible(False)\n",
    "    axs[i].spines['right'].set_visible(False)\n",
    "    # Set alpha on remaining borders.\n",
    "    axs[i].spines['left'].set_alpha(0.4)\n",
    "    axs[i].spines['bottom'].set_alpha(0.4)\n",
    "\n",
    "    # Only show ticks on the left and bottom spines.\n",
    "    axs[i].xaxis.set_ticks_position('bottom')\n",
    "    axs[i].yaxis.set_ticks_position('left')\n",
    "    # Style of ticks.\n",
    "    plt.xticks(fontsize=10, alpha=0.7)\n",
    "    plt.yticks(fontsize=10, alpha=0.7)\n",
    "    \n",
    "axs[0].set_ylabel('Life Expectancy', fontsize=12)\n",
    "fig.suptitle('Scatter plot with life expectancy by gdpPercap by country for 1952 and 2007', fontsize=16)\n"
   ]
  },
  {
   "cell_type": "markdown",
   "id": "5d0d4cfc",
   "metadata": {},
   "source": [
    "---\n",
    "<a name=\"Part48\"></a>\n",
    "**4.8) Analyse: Décrivez cette figure et répondez aux questions suivantes:**\n",
    "\n",
    "[Table des matières](#toc)\n",
    "\n",
    "\n",
    "\n",
    "- Quel est le principal message transmis ? \n",
    "- Quelles informations sont visibles sur le graphique (quelles dimentions des données sont représentées) ? \n",
    "- Est-ce un bon graphique ? Que pourrait-on ajouter / supprimer pour le rendre plus riche en information ou plus pertinent ?\n",
    "\n",
    "(5 points)\n"
   ]
  },
  {
   "cell_type": "markdown",
   "id": "3511aa6f",
   "metadata": {},
   "source": [
    "<a name=\"Part49\"></a>\n",
    "**4.9) Outlier - Graphique de l'évolution du GDP**\n",
    "\n",
    "[Table des matières](#toc)\n",
    "\n",
    "1. Au point précédent, avant de changer la taille des points, on remarque qu'un pays sort de l'ordinaire. Trouvez de quel pays il s'agit, quelles sont ses valeurs sortant de l'ordinaire et expliquez leurs effets sur le graphique précédent. **Répondez dans la case \"*Réponse:*\" ci-après.** (5 pts)\n",
    "\n",
    "2. Dans un second temps, créez un graphique qui affiche pour chaque continent en abscisse les années, en ordonnées la moyenne du GDP pour chaque année. Puis, ajoutez au même graphique l'évolution du GDP pour le pays trouvé précédemment. Un code de base vous est donné, ajoutez le code manquant. (5 pts)\n",
    "\n",
    "\n",
    "(10 points)"
   ]
  },
  {
   "cell_type": "code",
   "execution_count": null,
   "id": "9a07a232",
   "metadata": {},
   "outputs": [],
   "source": [
    "# Votre code ici: pour obtenir valeurs particulières\n",
    "\n",
    "\n"
   ]
  },
  {
   "cell_type": "markdown",
   "id": "77f87d59",
   "metadata": {},
   "source": [
    "<p style=\"background-color:#AFEEEE;padding:3px\"><font size=\"4\"><b>Q </b></font>Quel pays sort de l'ordinaire et quels effets ses valeurs ont sur le graphique précédent ?</p>"
   ]
  },
  {
   "cell_type": "markdown",
   "id": "f5815b44",
   "metadata": {},
   "source": [
    "*Réponse:*\n",
    "\n",
    "\n",
    "\n"
   ]
  },
  {
   "cell_type": "code",
   "execution_count": null,
   "id": "79ff6149",
   "metadata": {},
   "outputs": [],
   "source": [
    "# Votre code ici: graphique\n",
    "\n",
    "ax1 = (df\n",
    "      # Complétez en vous inspirant des exercices précédents\n",
    "      )\n",
    "\n",
    "\n",
    "\n",
    "ax2 = (df\n",
    "       # Complétez en vous inspirant des exercices précédents\n",
    "      )\n",
    "\n",
    "ax = pd.concat([ax1,ax2]).plot(rot=45, figsize=(16, 8))\n",
    "ax.set_xlabel('Year', fontsize=12)\n",
    "ax.set_ylabel('GDP', fontsize=12)\n",
    "ax.set_title('Evolution of the GDP per continent per year', fontsize=14)\n",
    "ax.legend(sorted(df['continent'].unique())) # Note: si le pays seul n'est pas sur la légende ça n'est pas grave"
   ]
  },
  {
   "cell_type": "markdown",
   "id": "65340bad",
   "metadata": {},
   "source": [
    "---"
   ]
  },
  {
   "cell_type": "markdown",
   "id": "806c5e5f",
   "metadata": {},
   "source": [
    "<a name=\"Part47-9\"></a>\n",
    "<div class=\"alert alert-block alert-info\">\n",
    "<b>Corrections 4.7 - 4.9: </b> Points obtenus: /17\n",
    "</div>\n",
    "\n",
    "Remarques de l'assistant: \n",
    "\n",
    "\n",
    "\n",
    "[Début partie 4](#Part4) --- [Table des matières](#toc)\n",
    "\n",
    "<p style=\"background-color:#003c9c;padding:3px\"><font size=\"4\"><b></b></font></p>"
   ]
  },
  {
   "cell_type": "markdown",
   "id": "d10d89f0",
   "metadata": {},
   "source": [
    "Fin"
   ]
  }
 ],
 "metadata": {
  "kernelspec": {
   "display_name": "isd",
   "language": "python",
   "name": "isd"
  },
  "language_info": {
   "codemirror_mode": {
    "name": "ipython",
    "version": 3
   },
   "file_extension": ".py",
   "mimetype": "text/x-python",
   "name": "python",
   "nbconvert_exporter": "python",
   "pygments_lexer": "ipython3",
   "version": "3.9.19"
  }
 },
 "nbformat": 4,
 "nbformat_minor": 5
}
